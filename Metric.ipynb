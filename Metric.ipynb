{
 "cells": [
  {
   "cell_type": "code",
   "execution_count": 1,
   "metadata": {},
   "outputs": [],
   "source": [
    "import cv2"
   ]
  },
  {
   "cell_type": "code",
   "execution_count": 2,
   "metadata": {},
   "outputs": [],
   "source": [
    "cascade_face = cv2.CascadeClassifier('haarcascade_frontalface_default.xml') \n",
    "cascade_eye = cv2.CascadeClassifier('haarcascade_eye.xml') \n",
    "cascade_smile = cv2.CascadeClassifier('haarcascade_smile.xml')"
   ]
  },
  {
   "cell_type": "code",
   "execution_count": 3,
   "metadata": {},
   "outputs": [],
   "source": [
    "vc = cv2.VideoCapture(0)"
   ]
  },
  {
   "cell_type": "code",
   "execution_count": 4,
   "metadata": {},
   "outputs": [],
   "source": [
    "def TakeSnapshotAndSave():\n",
    "    num = 0\n",
    "    while num < 2: # Make 2 snapshot \n",
    "        _, image = vc.read()\n",
    "        grayscale = cv2.cvtColor(image, cv2.COLOR_BGR2GRAY)\n",
    "        face = cascade_face.detectMultiScale(grayscale, 1.3, 5)\n",
    "        for (x_face, y_face, w_face, h_face) in face:\n",
    "            cv2.rectangle(image, (x_face, y_face), (x_face + w_face, y_face + h_face), (255, 130, 0), \n",
    "                         2)\n",
    "            ri_gray_scale = grayscale[y_face:y_face + h_face, x_face:x_face + w_face]\n",
    "            ri_color = image[y_face:y_face + h_face, x_face:x_face + w_face]\n",
    "            eye = cascade_eye.detectMultiScale(ri_gray_scale, 1.3, 18) #Depending from hyperparameters model can detect \n",
    "            #close eye as opened, but after playing with neughbours this problem can be solved. In this case I used optimal hyperparameters \n",
    "            for (x_eye, y_eye, w_eye, h_eye) in eye:\n",
    "                cv2.rectangle(ri_color, (x_eye, y_eye), (x_eye + w_eye, y_eye + h_eye),\n",
    "                             (0, 180, 60), 2)\n",
    "                smile = cascade_smile.detectMultiScale(ri_gray_scale, 1.7, 20)\n",
    "                for (x_smile, y_smile, w_smile, h_smile) in smile:\n",
    "                    cv2.rectangle(ri_color, (x_smile, y_smile), (x_smile + w_smile, y_smile + h_smile),\n",
    "                                (0, 180, 60), 2)\n",
    "                    x = 0\n",
    "                    y = 20\n",
    "                    text_color = (0,255,0)\n",
    "                    cv2.imwrite('opencv'+str(num)+'.jpg',image)\n",
    "                    num = num+1\n",
    "\n",
    "            \n",
    "        cv2.imshow('Video', image)\n",
    "        if cv2.waitKey(1) & 0xFF == ord('w'):\n",
    "            break\n",
    "if __name__ == \"__main__\":\n",
    "    TakeSnapshotAndSave()"
   ]
  },
  {
   "cell_type": "code",
   "execution_count": 5,
   "metadata": {},
   "outputs": [],
   "source": [
    "vc.release() \n",
    "cv2.destroyAllWindows() "
   ]
  }
 ],
 "metadata": {
  "kernelspec": {
   "display_name": "Python 3",
   "language": "python",
   "name": "python3"
  },
  "language_info": {
   "codemirror_mode": {
    "name": "ipython",
    "version": 3
   },
   "file_extension": ".py",
   "mimetype": "text/x-python",
   "name": "python",
   "nbconvert_exporter": "python",
   "pygments_lexer": "ipython3",
   "version": "3.6.8"
  }
 },
 "nbformat": 4,
 "nbformat_minor": 4
}
